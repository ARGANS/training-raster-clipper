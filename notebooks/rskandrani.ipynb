{
 "cells": [
  {
   "cell_type": "code",
   "execution_count": null,
   "metadata": {},
   "outputs": [],
   "source": [
    "from pathlib import Path\n",
    "\n",
    "from training_raster_clipper.core.models import TrainingConfiguration, TrainingFunctions\n",
    "\n",
    "from training_raster_clipper.core.logging import log_info\n",
    "\n",
    "from training_raster_clipper.core.visualization import (\n",
    "    plot_rgb_data_array,\n",
    "    plot_array,\n",
    "    plot_geodataframe,\n",
    ")\n",
    "\n",
    "from IPython.display import display\n",
    "\n",
    "import matplotlib.pyplot as plt\n",
    "\n",
    "from pathlib import Path\n",
    "\n",
    "from rioxarray import open_rasterio\n",
    "from geopandas import read_file\n",
    "import geopandas as gpd\n",
    "import numpy as np\n",
    "import rioxarray\n",
    "import xarray as xr\n",
    "from affine import Affine\n",
    "from geopandas.geodataframe import GeoDataFrame\n",
    "from rasterio.features import rasterize\n",
    "from sklearn.ensemble import RandomForestClassifier\n",
    "from sklearn.model_selection import train_test_split\n",
    "\n",
    "from training_raster_clipper.custom_types import (\n",
    "    BandNameType,\n",
    "    ClassificationResult,\n",
    "    ClassifiedSamples,\n",
    "    FeatureClassNameToId,\n",
    "    PolygonMask,\n",
    "    ResolutionType,\n",
    ")\n",
    "import logging "
   ]
  },
  {
   "cell_type": "code",
   "execution_count": null,
   "metadata": {},
   "outputs": [],
   "source": [
    "# See https://stackoverflow.com/questions/18786912/get-output-from-the-logging-module-in-ipython-notebook\n",
    "logger = logging.getLogger()\n",
    "logger.setLevel(logging.INFO)\n",
    "logging.info(\"test\") "
   ]
  },
  {
   "cell_type": "code",
   "execution_count": null,
   "metadata": {},
   "outputs": [],
   "source": [
    "raster_input_path = Path(\n",
    "    \"D:/Profils/rskandrani/Desktop/tutoriel S1/S2A_MSIL2A_20230823T104631_N0509_R051_T31TCJ_20230823T170355.SAFE\"\n",
    ")\n",
    "polygons_input_path = Path(\n",
    "    \"D:/Profils/rskandrani/Desktop/tutoriel S1/polygons_rf.geojson\"\n",
    ")\n",
    "\n",
    "config = TrainingConfiguration(\n",
    "    verbose=True,\n",
    "    show_plots=True,\n",
    "    resolution=60,\n",
    "    band_names=(\"B04\", \"B03\", \"B02\", \"B8A\"),\n",
    "    raster_input_path=raster_input_path,\n",
    "    polygons_input_path=polygons_input_path,\n",
    "    csv_output_path=(\n",
    "        Path(\".\").resolve().parent / Path(\"generated/classified_points.csv\")\n",
    "    ),\n",
    "    raster_output_path=(\n",
    "        Path(\".\").resolve().parent / Path(\"generated/sklearn_raster.tiff\")\n",
    "    ),\n",
    "    implementation_name=\"eschalk\",\n",
    ")\n",
    "config"
   ]
  },
  {
   "cell_type": "code",
   "execution_count": null,
   "metadata": {},
   "outputs": [],
   "source": [
    "verbose = config.verbose\n",
    "show_plots = config.show_plots\n",
    "\n",
    "resolution = config.resolution\n",
    "band_names = config.band_names\n",
    "\n",
    "raster_input_path = config.raster_input_path\n",
    "polygons_input_path = config.polygons_input_path\n",
    "csv_output_path = config.csv_output_path\n",
    "raster_output_path = config.raster_output_path\n"
   ]
  },
  {
   "attachments": {},
   "cell_type": "markdown",
   "metadata": {},
   "source": [
    "### (1) Load a GeoJSON file with `geopandas`"
   ]
  },
  {
   "cell_type": "code",
   "execution_count": null,
   "metadata": {},
   "outputs": [],
   "source": [
    "def load_feature_polygons(input_path: Path) -> GeoDataFrame:\n",
    "    geodf = read_file(input_path)\n",
    "    return GeoDataFrame(geodf).to_crs(32631)\n"
   ]
  },
  {
   "cell_type": "code",
   "execution_count": null,
   "metadata": {},
   "outputs": [],
   "source": [
    "polygons = load_feature_polygons(polygons_input_path)\n",
    "if verbose:\n",
    "    log_info(polygons, \"polygons\")\n",
    "if show_plots:\n",
    "    plot_geodataframe(polygons, f\"{load_feature_polygons.__name__}\")\n"
   ]
  },
  {
   "attachments": {},
   "cell_type": "markdown",
   "metadata": {},
   "source": [
    "### (2) Load a Sentinel-2 raster with `rioxarray`"
   ]
  },
  {
   "cell_type": "code",
   "execution_count": null,
   "metadata": {},
   "outputs": [],
   "source": [
    "def load_sentinel_data(\n",
    "    sentinel_product_location: Path,\n",
    "    resolution: ResolutionType,\n",
    "    band_names: tuple[BandNameType, ...],\n",
    ") -> xr.DataArray:\n",
    "    \"\"\"Loads sentinel product\n",
    "\n",
    "    Example input path: `S2A_MSIL2A_20221116T105321_N0400_R051_T31TCJ_20221116T170958.SAFE`\n",
    "\n",
    "    Args:\n",
    "        sentinel_product_location (Path): Location of the .SAFE folder containing a Sentinel-2 product.\n",
    "\n",
    "    Returns:\n",
    "        xr.DataArray: A DataArray containing the 3 RGB bands from the visible spectrum\n",
    "    \"\"\"\n",
    "    RADIO_ADD_OFFSET = -1000\n",
    "    QUANTIFICATION_VALUE = 10000\n",
    "\n",
    "    dict_bands = {}\n",
    "    if len(band_names) == 0:\n",
    "        return print(\"no bands selected\")\n",
    "    for band in band_names:\n",
    "        dict_bands[band] = sorted(\n",
    "            Path(sentinel_product_location).glob(\n",
    "                f\"GRANULE/*/IMG_DATA/R{resolution}m/*_{band}_*\"\n",
    "            )\n",
    "        )[0]\n",
    "\n",
    "    list_dataarray = []\n",
    "\n",
    "    for band_name, raster_path in dict_bands.items():\n",
    "        raster = open_rasterio(raster_path)\n",
    "\n",
    "        list_dataarray.append(raster.assign_coords({\"band\": [band_name]}))\n",
    "\n",
    "    rasters_concat = xr.concat(list_dataarray, dim=\"band\")\n",
    "\n",
    "    result = rasters_concat.where(\n",
    "        rasters_concat != 0,\n",
    "        np.float32(np.NaN),\n",
    "    )\n",
    "\n",
    "    result = (result + RADIO_ADD_OFFSET) / QUANTIFICATION_VALUE\n",
    "\n",
    "    return result\n"
   ]
  },
  {
   "cell_type": "code",
   "execution_count": null,
   "metadata": {},
   "outputs": [],
   "source": [
    "rasters = load_sentinel_data(raster_input_path, resolution, band_names)\n",
    "if verbose:\n",
    "    log_info(rasters, \"rasters\")\n",
    "if show_plots:\n",
    "    plot_rgb_data_array(rasters, f\"{load_sentinel_data.__name__}\")\n"
   ]
  },
  {
   "cell_type": "code",
   "execution_count": null,
   "metadata": {},
   "outputs": [],
   "source": [
    "rasters.rio.crs\n"
   ]
  },
  {
   "cell_type": "code",
   "execution_count": null,
   "metadata": {},
   "outputs": [],
   "source": [
    "list(reversed(rasters.shape[:2]))\n"
   ]
  },
  {
   "cell_type": "code",
   "execution_count": null,
   "metadata": {},
   "outputs": [],
   "source": [
    "display(polygons)\n"
   ]
  },
  {
   "cell_type": "code",
   "execution_count": null,
   "metadata": {},
   "outputs": [],
   "source": [
    "polygons.shape\n"
   ]
  },
  {
   "cell_type": "code",
   "execution_count": null,
   "metadata": {},
   "outputs": [],
   "source": [
    "# rasters.spatial_ref.GeoTransform.split(' ')\n",
    "\n",
    "# transform_tuple = (float(x) for x in rasters.spatial_ref.GeoTransform.split(' ') )\n",
    "# tuple(transform_tuple)\n"
   ]
  },
  {
   "attachments": {},
   "cell_type": "markdown",
   "metadata": {},
   "source": [
    "### (3) Rasterize the polygons"
   ]
  },
  {
   "cell_type": "code",
   "execution_count": null,
   "metadata": {},
   "outputs": [],
   "source": [
    "def rasterize_geojson(\n",
    "    data_array: xr.DataArray,\n",
    "    training_classes: GeoDataFrame,\n",
    ") -> tuple[PolygonMask, FeatureClassNameToId]:\n",
    "    \"\"\"Burns a set of vectorial polygons to a raster.\n",
    "\n",
    "    See https://gis.stackexchange.com/questions/316626/rasterio-features-rasterize\n",
    "\n",
    "    Args:\n",
    "        data_array (xr.DataArray): The Sentinel raster, from which data is taken, such as the transform or the shape.\n",
    "        training_classes (GeoDataFrame): The input set of classified multipolygons to burn\n",
    "\n",
    "    Returns:\n",
    "        xr.DataArray: A mask raster generated from the polygons, representing the same geographical region as the source dataarray param\n",
    "                      0 where no polygon were found, and integers representing classes in order of occurence in the GeoDataFrame\n",
    "    \"\"\"\n",
    "\n",
    "    transform_tuple = tuple(\n",
    "        float(x) for x in data_array.spatial_ref.GeoTransform.split(\" \")\n",
    "    )\n",
    "    fwd = Affine.from_gdal(*transform_tuple)\n",
    "\n",
    "    shape = data_array.isel(band=0).shape\n",
    "\n",
    "    dict_mapping_class = dict(zip(training_classes.color, training_classes.index + 1))\n",
    "\n",
    "    geodf_list = list(zip(training_classes.geometry, training_classes.index + 1))\n",
    "\n",
    "    polygon_mask = rasterize(geodf_list, out_shape=shape, transform=fwd)\n",
    "\n",
    "    return polygon_mask, dict_mapping_class"
   ]
  },
  {
   "cell_type": "code",
   "execution_count": null,
   "metadata": {},
   "outputs": [],
   "source": [
    "burnt_polygons, mapping = rasterize_geojson(rasters, polygons)\n",
    "if verbose:\n",
    "    log_info(burnt_polygons, \"burnt_polygons\")\n",
    "    log_info(mapping, \"mapping\")\n",
    "if show_plots:\n",
    "    plot_array(burnt_polygons, f\"{rasterize_geojson.__name__}\")\n"
   ]
  },
  {
   "cell_type": "code",
   "execution_count": null,
   "metadata": {},
   "outputs": [],
   "source": [
    "burnt_polygons\n"
   ]
  },
  {
   "attachments": {},
   "cell_type": "markdown",
   "metadata": {},
   "source": [
    "### (4) Intersect the Sentinel-2 raster with polygons"
   ]
  },
  {
   "cell_type": "code",
   "execution_count": null,
   "metadata": {},
   "outputs": [],
   "source": [
    "def produce_clips(\n",
    "    data_array: xr.DataArray, burnt_polygons: PolygonMask, mapping: FeatureClassNameToId\n",
    ") -> ClassifiedSamples:\n",
    "    \"\"\"Extract RGB values covered by classified polygons\n",
    "\n",
    "    Args:\n",
    "        data_array (xr.DataArray): RGB raster\n",
    "        burnt_polygons (PolygonMask): Rasterized classified multipolygons\n",
    "\n",
    "    Returns:\n",
    "        _type_: A list of the RGB values contained in the data_array and their corresponding classes\n",
    "    \"\"\"\n",
    "    polygons_data_array = data_array.isel(band=0).copy(data=burnt_polygons)\n",
    "\n",
    "    dict_data_array_stacked = {\n",
    "        \"class\": polygons_data_array.stack(z=(\"y\", \"x\")),\n",
    "        \"reflectance\": data_array.stack(z=(\"y\", \"x\")),\n",
    "    }\n",
    "\n",
    "    classified_reflectances = xr.Dataset(dict_data_array_stacked)\n",
    "    class_not_zero = classified_reflectances[\"class\"] != 0\n",
    "    classified_reflectances = classified_reflectances.isel(z=class_not_zero)\n",
    "\n",
    "    return classified_reflectances"
   ]
  },
  {
   "cell_type": "code",
   "execution_count": null,
   "metadata": {},
   "outputs": [],
   "source": [
    "classified_rgb_rows = produce_clips(rasters, burnt_polygons, mapping)\n",
    "if verbose:\n",
    "    log_info(classified_rgb_rows, \"classified_rgb_rows\")\n"
   ]
  },
  {
   "cell_type": "code",
   "execution_count": null,
   "metadata": {},
   "outputs": [],
   "source": [
    "classified_rgb_rows.drop_vars([\"x\", \"y\", \"spatial_ref\"])\n"
   ]
  },
  {
   "attachments": {},
   "cell_type": "markdown",
   "metadata": {},
   "source": [
    "### (5) Persist the intersection to a CSV"
   ]
  },
  {
   "cell_type": "code",
   "execution_count": null,
   "metadata": {},
   "outputs": [],
   "source": [
    "def persist_to_csv(\n",
    "    classified_rgb_rows: ClassifiedSamples,\n",
    "    csv_output_path: Path,\n",
    ") -> None:\n",
    "    df_classified_rgb_rows = classified_rgb_rows.to_dataframe().to_csv(\n",
    "        csv_output_path + \"/classified_rgb_rows.csv\",\n",
    "    )"
   ]
  },
  {
   "cell_type": "code",
   "execution_count": null,
   "metadata": {},
   "outputs": [],
   "source": [
    "persist_to_csv(classified_rgb_rows, csv_output_path)\n",
    "log_info(f\"Written CSV output {csv_output_path}\")\n"
   ]
  },
  {
   "cell_type": "code",
   "execution_count": null,
   "metadata": {},
   "outputs": [],
   "source": [
    "classified_rgb_rows[\"reflectance\"].values\n"
   ]
  },
  {
   "cell_type": "code",
   "execution_count": null,
   "metadata": {},
   "outputs": [],
   "source": [
    "rasters.stack(z=(\"y\", \"x\")).values\n"
   ]
  },
  {
   "cell_type": "code",
   "execution_count": null,
   "metadata": {},
   "outputs": [],
   "source": [
    "classified_rgb_rows[\"class\"].values\n"
   ]
  },
  {
   "attachments": {},
   "cell_type": "markdown",
   "metadata": {},
   "source": [
    "### (6) Train a machine learning model"
   ]
  },
  {
   "cell_type": "code",
   "execution_count": null,
   "metadata": {},
   "outputs": [],
   "source": [
    "def classify_sentinel_data(\n",
    "    rasters: xr.DataArray, classified_rgb_rows: ClassifiedSamples\n",
    ") -> ClassificationResult:\n",
    "    X_train = classified_rgb_rows[\"reflectance\"].values\n",
    "    y_train = classified_rgb_rows[\"class\"].values\n",
    "\n",
    "    model_rf = RandomForestClassifier().fit(X_train.T, y_train)\n",
    "\n",
    "    predicted_classes = model_rf.predict(rasters.stack(z=(\"y\", \"x\")).values.T)\n",
    "\n",
    "    ref_raster = rasters.isel(band=0, drop=True)\n",
    "\n",
    "    predicted_classes_xarray = ref_raster.copy(\n",
    "        data=np.reshape(predicted_classes, ref_raster.shape)\n",
    "    )\n",
    "\n",
    "    return predicted_classes_xarray"
   ]
  },
  {
   "cell_type": "code",
   "execution_count": null,
   "metadata": {},
   "outputs": [],
   "source": [
    "mapping"
   ]
  },
  {
   "cell_type": "code",
   "execution_count": null,
   "metadata": {},
   "outputs": [],
   "source": [
    "classification_result = classify_sentinel_data(rasters, classified_rgb_rows)\n",
    "if verbose:\n",
    "    log_info(classification_result, \"classification_result\")\n",
    "if show_plots:\n",
    "    plot_array(classification_result, f\"{classify_sentinel_data.__name__}\")\n"
   ]
  },
  {
   "attachments": {},
   "cell_type": "markdown",
   "metadata": {},
   "source": [
    "### (7) Export the classification raster result"
   ]
  },
  {
   "cell_type": "code",
   "execution_count": null,
   "metadata": {},
   "outputs": [],
   "source": [
    "def persist_classification_to_raster(\n",
    "    raster_output_path: Path, classification_result: ClassificationResult\n",
    ") -> None:\n",
    "    classification_result.rio.to_raster(raster_output_path)\n"
   ]
  },
  {
   "cell_type": "code",
   "execution_count": null,
   "metadata": {},
   "outputs": [],
   "source": [
    "persist_classification_to_raster(raster_output_path, classification_result)\n",
    "log_info(f\"Written Classified Raster to {csv_output_path}\")\n",
    "\n",
    "# --\n",
    "\n",
    "log_info(\"Congratulations, you reached the end of the tutorial!\")\n"
   ]
  }
 ],
 "metadata": {
  "kernelspec": {
   "display_name": ".venv",
   "language": "python",
   "name": "python3"
  },
  "language_info": {
   "codemirror_mode": {
    "name": "ipython",
    "version": 3
   },
   "file_extension": ".py",
   "mimetype": "text/x-python",
   "name": "python",
   "nbconvert_exporter": "python",
   "pygments_lexer": "ipython3",
   "version": "3.10.4"
  },
  "orig_nbformat": 4
 },
 "nbformat": 4,
 "nbformat_minor": 2
}
