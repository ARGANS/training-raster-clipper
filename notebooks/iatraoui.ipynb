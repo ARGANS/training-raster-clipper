{
 "cells": [
  {
   "cell_type": "code",
   "execution_count": null,
   "metadata": {},
   "outputs": [],
   "source": [
    "from IPython.display import display\n",
    "\n",
    "from pathlib import Path\n",
    "\n",
    "from training_raster_clipper.core.models import TrainingConfiguration, TrainingFunctions\n",
    "\n",
    "from training_raster_clipper.core.logging import log_info\n",
    "\n",
    "from training_raster_clipper.core.visualization import (\n",
    "    plot_rgb_data_array,\n",
    "    plot_array,\n",
    "    plot_geodataframe,\n",
    ")\n",
    "\n",
    "import matplotlib.pyplot as plt\n",
    "\n",
    "from pathlib import Path\n",
    "\n",
    "import geopandas as gpd\n",
    "import numpy as np\n",
    "import rioxarray\n",
    "import xarray as xr\n",
    "from affine import Affine\n",
    "from geopandas.geodataframe import GeoDataFrame\n",
    "from rasterio.features import rasterize\n",
    "from sklearn.ensemble import RandomForestClassifier\n",
    "\n",
    "from training_raster_clipper.custom_types import (\n",
    "    BandNameType,\n",
    "    ClassificationResult,\n",
    "    ClassifiedSamples,\n",
    "    FeatureClassNameToId,\n",
    "    PolygonMask,\n",
    "    ResolutionType,\n",
    ")\n",
    "\n",
    "from geopandas import read_file\n",
    "from rioxarray import open_rasterio\n",
    "from rasterio.features import rasterize\n",
    "import numpy as np\n",
    "import pandas as pd\n",
    "\n",
    "xr.set_options(keep_attrs=True)"
   ]
  },
  {
   "cell_type": "code",
   "execution_count": null,
   "metadata": {},
   "outputs": [],
   "source": [
    "raster_input_path = Path(\n",
    "    \"D:/Profils/iatraoui/Desktop/Project/S2A_MSIL2A_20230823T104631_N0509_R051_T31TCJ_20230823T170355.SAFE\"\n",
    ")\n",
    "polygons_input_path = Path(\".\").resolve().parent / Path(\n",
    "    \"D:\\\\Profils\\\\iatraoui\\\\Desktop\\\\Project\\\\QGIS\\\\Polygons2.geojson\"\n",
    ")\n",
    "\n",
    "config = TrainingConfiguration(\n",
    "    verbose=True,\n",
    "    show_plots=True,\n",
    "    resolution=60,\n",
    "    band_names=(\"B04\", \"B03\", \"B02\", \"B8A\"),\n",
    "    raster_input_path=raster_input_path,\n",
    "    polygons_input_path=polygons_input_path,\n",
    "    csv_output_path=(\n",
    "        Path(\".\").resolve().parent / Path(\"generated/classified_points.csv\")\n",
    "    ),\n",
    "    raster_output_path=(\n",
    "        Path(\".\").resolve().parent / Path(\"generated/sklearn_raster.tiff\")\n",
    "    ),\n",
    "    implementation_name=\"eschalk\",\n",
    ")\n",
    "config"
   ]
  },
  {
   "cell_type": "code",
   "execution_count": null,
   "metadata": {},
   "outputs": [],
   "source": [
    "verbose = config.verbose\n",
    "show_plots = config.show_plots\n",
    "\n",
    "resolution = config.resolution\n",
    "band_names = config.band_names\n",
    "\n",
    "raster_input_path = config.raster_input_path\n",
    "polygons_input_path = config.polygons_input_path\n",
    "csv_output_path = config.csv_output_path\n",
    "raster_output_path = config.raster_output_path"
   ]
  },
  {
   "attachments": {},
   "cell_type": "markdown",
   "metadata": {},
   "source": [
    "### (1) Load a GeoJSON file with `geopandas`"
   ]
  },
  {
   "cell_type": "code",
   "execution_count": null,
   "metadata": {},
   "outputs": [],
   "source": [
    "def load_feature_polygons(input_path: Path) -> GeoDataFrame:\n",
    "\n",
    "    gdf = read_file(input_path)\n",
    "    gdf = gdf.to_crs(32631)\n",
    "    return gdf"
   ]
  },
  {
   "cell_type": "code",
   "execution_count": null,
   "metadata": {},
   "outputs": [],
   "source": [
    "polygons = load_feature_polygons(polygons_input_path)\n",
    "if verbose:\n",
    "    log_info(polygons, \"polygons\")\n",
    "if show_plots:\n",
    "    plot_geodataframe(polygons, f\"{load_feature_polygons.__name__}\")"
   ]
  },
  {
   "attachments": {},
   "cell_type": "markdown",
   "metadata": {},
   "source": [
    "### (2) Load a Sentinel-2 raster with `rioxarray`"
   ]
  },
  {
   "cell_type": "code",
   "execution_count": null,
   "metadata": {},
   "outputs": [],
   "source": [
    "def load_sentinel_data(\n",
    "    sentinel_product_location: Path,\n",
    "    resolution: ResolutionType,\n",
    "    band_names: tuple[BandNameType, ...],\n",
    ") -> xr.DataArray:\n",
    "    \"\"\"Loads sentinel product\n",
    "\n",
    "    Example input path: `S2A_MSIL2A_20221116T105321_N0400_R051_T31TCJ_20221116T170958.SAFE`\n",
    "\n",
    "    Args:\n",
    "        sentinel_product_location (Path): Location of the .SAFE folder containing a Sentinel-2 product.\n",
    "\n",
    "    Returns:\n",
    "        xr.DataArray: A DataArray containing the 3 RGB bands from the visible spectrum\n",
    "    \"\"\"\n",
    "\n",
    "    paths_list = {\n",
    "        band_name: list(\n",
    "            sentinel_product_location.glob(\n",
    "                f\"GRANULE/*/IMG_DATA/R{resolution}m/*_{band_name}_*\"\n",
    "            )\n",
    "        )[0]\n",
    "        for band_name in band_names\n",
    "    }\n",
    "    data_arrays_list = [\n",
    "        open_rasterio(paths_list[band_name]).assign_coords({\"band\": [band_name]})\n",
    "        for band_name in band_names\n",
    "    ]\n",
    "    rasters_data_array = xr.concat(data_arrays_list, dim=\"band\")\n",
    "    rasters_data_array = rasters_data_array.where(\n",
    "        rasters_data_array != 0, np.float32(np.nan)\n",
    "    )\n",
    "    radio_add_offset = -1000\n",
    "    quantification_value = 10000\n",
    "    result = (rasters_data_array + radio_add_offset) / quantification_value\n",
    "    return result"
   ]
  },
  {
   "cell_type": "code",
   "execution_count": null,
   "metadata": {},
   "outputs": [],
   "source": [
    "rasters = load_sentinel_data(raster_input_path, resolution, band_names)\n",
    "if verbose:\n",
    "    log_info(rasters, \"rasters\")\n",
    "if show_plots:\n",
    "    plot_rgb_data_array(rasters, f\"{load_sentinel_data.__name__}\")"
   ]
  },
  {
   "attachments": {},
   "cell_type": "markdown",
   "metadata": {},
   "source": [
    "### (3) Rasterize the polygons"
   ]
  },
  {
   "cell_type": "code",
   "execution_count": null,
   "metadata": {},
   "outputs": [],
   "source": [
    "def rasterize_geojson(\n",
    "    data_array: xr.DataArray,\n",
    "    training_classes: GeoDataFrame,\n",
    ") -> tuple[PolygonMask, FeatureClassNameToId]:\n",
    "    \"\"\"Burns a set of vectorial polygons to a raster.\n",
    "\n",
    "    See https://gis.stackexchange.com/questions/316626/rasterio-features-rasterize\n",
    "\n",
    "    Args:\n",
    "        data_array (xr.DataArray): The Sentinel raster, from which data is taken, such as the transform or the shape.\n",
    "        training_classes (GeoDataFrame): The input set of classified multipolygons to burn\n",
    "\n",
    "    Returns:\n",
    "        xr.DataArray: A mask raster generated from the polygons, representing the same geographical region as the source dataarray param\n",
    "                      0 where no polygon were found, and integers representing classes in order of occurence in the GeoDataFrame\n",
    "    \"\"\"\n",
    "\n",
    "    mapping = {\"WATER\": 1, \"FOREST\": 2, \"FARM\": 3}\n",
    "\n",
    "    out_shape = data_array.isel(band=0, drop=True).shape\n",
    "\n",
    "    shapes = pd.DataFrame(training_classes)\n",
    "    shapes = shapes[[\"geometry\", \"class\"]]\n",
    "    shapes[\"class\"] = shapes[\"class\"].map(mapping)\n",
    "    shapes = [tuple(row) for row in shapes.to_numpy()]\n",
    "    print(shapes[0])\n",
    "\n",
    "    transform = data_array.spatial_ref.GeoTransform\n",
    "    transform = (float(x) for x in transform.split())\n",
    "    transform = Affine.from_gdal(*transform)\n",
    "\n",
    "    display(f\"{shapes = }\")\n",
    "    display(out_shape)\n",
    "    display(transform)\n",
    "\n",
    "    burnt_polygons = rasterize(\n",
    "        shapes, out_shape=out_shape, transform=transform, dtype=np.uint8\n",
    "    )\n",
    "\n",
    "    return (burnt_polygons, mapping)"
   ]
  },
  {
   "cell_type": "code",
   "execution_count": null,
   "metadata": {},
   "outputs": [],
   "source": [
    "burnt_polygons, mapping = rasterize_geojson(rasters, polygons)\n",
    "if verbose:\n",
    "    log_info(burnt_polygons, \"burnt_polygons\")\n",
    "    log_info(mapping, \"mapping\")\n",
    "if show_plots:\n",
    "    plot_array(burnt_polygons, f\"{rasterize_geojson.__name__}\")"
   ]
  },
  {
   "attachments": {},
   "cell_type": "markdown",
   "metadata": {},
   "source": [
    "### (4) Intersect the Sentinel-2 raster with polygons"
   ]
  },
  {
   "cell_type": "code",
   "execution_count": null,
   "metadata": {},
   "outputs": [],
   "source": [
    "def produce_clips(\n",
    "    data_array: xr.DataArray, burnt_polygons: PolygonMask, mapping: FeatureClassNameToId\n",
    ") -> ClassifiedSamples:\n",
    "    \"\"\"Extract RGB values covered by classified polygons\n",
    "\n",
    "    Args:\n",
    "        data_array (xr.DataArray): RGB raster\n",
    "        burnt_polygons (PolygonMask): Rasterized classified multipolygons\n",
    "\n",
    "    Returns:\n",
    "        _type_: A list of the RGB values contained in the data_array and their corresponding classes\n",
    "    \"\"\"\n",
    "\n",
    "    data_array = data_array.stack(z=(\"y\", \"x\"))\n",
    "    burnt_polygons = burnt_polygons.reshape(-1)\n",
    "    burnt_polygons = burnt_polygons.astype(\"int64\")\n",
    "\n",
    "    classified_rgb_rows = xr.Dataset(\n",
    "        {\n",
    "            \"reflectance\": data_array,\n",
    "            \"feature_id\": xr.DataArray(burnt_polygons, dims=\"z\"),\n",
    "        }\n",
    "    )\n",
    "\n",
    "    classified_rgb_rows = classified_rgb_rows.sel(\n",
    "        z=classified_rgb_rows[\"feature_id\"] != 0\n",
    "    )\n",
    "\n",
    "    return classified_rgb_rows"
   ]
  },
  {
   "cell_type": "code",
   "execution_count": null,
   "metadata": {},
   "outputs": [],
   "source": [
    "classified_rgb_rows = produce_clips(rasters, burnt_polygons, mapping)\n",
    "if verbose:\n",
    "    log_info(classified_rgb_rows, \"classified_rgb_rows\")"
   ]
  },
  {
   "attachments": {},
   "cell_type": "markdown",
   "metadata": {},
   "source": [
    "### (5) Persist the intersection to a CSV"
   ]
  },
  {
   "cell_type": "code",
   "execution_count": null,
   "metadata": {},
   "outputs": [],
   "source": [
    "def persist_to_csv(\n",
    "    classified_rgb_rows: ClassifiedSamples,\n",
    "    csv_output_path: Path,\n",
    ") -> None:\n",
    "\n",
    "    dict_data = {\n",
    "        band_name: classified_rgb_rows.sel(band=band_name)[\"reflectance\"].values\n",
    "        for band_name in classified_rgb_rows.coords[\"band\"].values\n",
    "    }\n",
    "    dict_data[\"feature_id\"] = classified_rgb_rows.isel(band=0)[\"feature_id\"].values\n",
    "    classified_rgb_rows_dataframe = pd.DataFrame.from_dict(dict_data, orient=\"columns\")\n",
    "\n",
    "    classified_rgb_rows_dataframe.to_csv(\n",
    "        Path(\n",
    "            \"D:\\\\Profils\\\\iatraoui\\\\Desktop\\\\Project\\\\training-raster-clipper\\\\generated\\\\classified_points_iatraoui.csv\"\n",
    "        )\n",
    "    )"
   ]
  },
  {
   "cell_type": "code",
   "execution_count": null,
   "metadata": {},
   "outputs": [],
   "source": [
    "persist_to_csv(classified_rgb_rows, csv_output_path)\n",
    "log_info(f\"Written CSV output {csv_output_path}\")"
   ]
  },
  {
   "attachments": {},
   "cell_type": "markdown",
   "metadata": {},
   "source": [
    "### (6) Train a machine learning model"
   ]
  },
  {
   "cell_type": "code",
   "execution_count": null,
   "metadata": {},
   "outputs": [],
   "source": [
    "def classify_sentinel_data(\n",
    "    rasters: xr.DataArray, classified_rgb_rows: ClassifiedSamples\n",
    ") -> ClassificationResult:\n",
    "\n",
    "    RF_model = RandomForestClassifier(\n",
    "        random_state=0,\n",
    "        n_jobs=-1,\n",
    "        n_estimators=10,\n",
    "        bootstrap=False,\n",
    "        class_weight=\"balanced\",\n",
    "    )\n",
    "\n",
    "    training_data = classified_rgb_rows[\"reflectance\"].values\n",
    "    training_labels = classified_rgb_rows[\"feature_id\"].values\n",
    "\n",
    "    RF_model.fit(training_data.T, training_labels)\n",
    "\n",
    "    rasters = rasters.stack(z=(\"y\", \"x\"))\n",
    "\n",
    "    result = RF_model.predict(rasters.values.T)\n",
    "\n",
    "    result_array = rasters.unstack().isel(band=0).copy()\n",
    "    result_array.values = result.reshape(result_array.shape)\n",
    "\n",
    "    result_array = result_array.astype(np.uint8)\n",
    "\n",
    "    return result_array"
   ]
  },
  {
   "cell_type": "code",
   "execution_count": null,
   "metadata": {},
   "outputs": [],
   "source": [
    "classification_result = classify_sentinel_data(rasters, classified_rgb_rows)\n",
    "if verbose:\n",
    "    log_info(classification_result, \"classification_result\")\n",
    "if show_plots:\n",
    "    plot_array(classification_result, f\"{classify_sentinel_data.__name__}\")"
   ]
  },
  {
   "attachments": {},
   "cell_type": "markdown",
   "metadata": {},
   "source": [
    "### (7) Export the classification raster result"
   ]
  },
  {
   "cell_type": "code",
   "execution_count": null,
   "metadata": {},
   "outputs": [],
   "source": [
    "def persist_classification_to_raster(\n",
    "    raster_output_path: Path, classification_result: ClassificationResult\n",
    ") -> None:\n",
    "\n",
    "    classification_result.rio.to_raster(\n",
    "        Path(\n",
    "            \"D:\\\\Profils\\\\iatraoui\\\\Desktop\\\\Project\\\\training-raster-clipper\\\\generated\\\\sklearn_raster_iatraoui.tiff\"\n",
    "        )\n",
    "    )"
   ]
  },
  {
   "cell_type": "code",
   "execution_count": null,
   "metadata": {},
   "outputs": [],
   "source": [
    "persist_classification_to_raster(raster_output_path, classification_result)\n",
    "log_info(f\"Written Classified Raster to {csv_output_path}\")\n",
    "\n",
    "# --\n",
    "\n",
    "log_info(\"Congratulations, you reached the end of the tutorial!\")"
   ]
  }
 ],
 "metadata": {
  "kernelspec": {
   "display_name": ".venv",
   "language": "python",
   "name": "python3"
  },
  "language_info": {
   "codemirror_mode": {
    "name": "ipython",
    "version": 3
   },
   "file_extension": ".py",
   "mimetype": "text/x-python",
   "name": "python",
   "nbconvert_exporter": "python",
   "pygments_lexer": "ipython3",
   "version": "3.10.11"
  },
  "orig_nbformat": 4
 },
 "nbformat": 4,
 "nbformat_minor": 2
}
