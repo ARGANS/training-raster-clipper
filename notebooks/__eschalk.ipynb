{
 "cells": [
  {
   "cell_type": "code",
   "execution_count": null,
   "metadata": {},
   "outputs": [],
   "source": [
    "from pathlib import Path \n",
    "\n",
    "from training_raster_clipper.core.models import TrainingConfiguration, TrainingFunctions \n",
    "\n",
    "from training_raster_clipper.core.logging import log_info\n",
    "\n",
    "from training_raster_clipper.core.visualization import (\n",
    "    plot_rgb_data_array,\n",
    "    plot_array,\n",
    "    plot_geodataframe,\n",
    ")\n",
    "\n",
    "import matplotlib.pyplot as plt\n",
    "\n",
    "\n",
    "config = TrainingConfiguration(\n",
    "    verbose = True,\n",
    "    show_plots = True, \n",
    "    resolution = 60,\n",
    "    band_names = (\"B04\", \"B03\", \"B02\", \"B8A\"),\n",
    "    raster_input_path = Path(\n",
    "        \"D:/PROFILS/ESCHALK/DOWNLOADS/S2A_MSIL2A_20221116T105321_N0400_R051_T31TCJ_20221116T170958/S2A_MSIL2A_20221116T105321_N0400_R051_T31TCJ_20221116T170958.SAFE\"\n",
    "    ),\n",
    "    polygons_input_path = (Path(\".\").resolve().parent / Path(\"resources/solution/polygons.geojson\")),\n",
    "    csv_output_path = (Path(\".\").resolve().parent / Path(\"generated/classified_points.csv\")),\n",
    "    raster_output_path=(Path(\".\").resolve().parent / Path(\"generated/sklearn_raster.tiff\")),\n",
    "    implementation_name=\"eschalk\",\n",
    ")\n",
    "config"
   ]
  },
  {
   "cell_type": "code",
   "execution_count": null,
   "metadata": {},
   "outputs": [],
   "source": [
    "from training_raster_clipper.implementation.eschalk import (\n",
    "    load_feature_polygons,\n",
    "    load_sentinel_data,\n",
    "    rasterize_geojson,\n",
    "    produce_clips,\n",
    "    persist_to_csv,\n",
    "    classify_sentinel_data,\n",
    "    persist_classification_to_raster,\n",
    ")\n",
    "\n",
    "interface = TrainingFunctions(\n",
    "    load_feature_polygons=load_feature_polygons,\n",
    "    load_sentinel_data=load_sentinel_data,\n",
    "    rasterize_geojson=rasterize_geojson,\n",
    "    produce_clips=produce_clips,\n",
    "    persist_to_csv=persist_to_csv,\n",
    "    classify_sentinel_data=classify_sentinel_data,\n",
    "    persist_classification_to_raster=persist_classification_to_raster,\n",
    ")\n",
    "interface"
   ]
  },
  {
   "cell_type": "code",
   "execution_count": null,
   "metadata": {},
   "outputs": [],
   "source": [
    "verbose = config.verbose\n",
    "show_plots = config.show_plots\n",
    "\n",
    "resolution = config.resolution\n",
    "band_names = config.band_names\n",
    "\n",
    "raster_input_path = config.raster_input_path\n",
    "polygons_input_path = config.polygons_input_path\n",
    "csv_output_path = config.csv_output_path\n",
    "raster_output_path = config.raster_output_path"
   ]
  },
  {
   "attachments": {},
   "cell_type": "markdown",
   "metadata": {},
   "source": [
    "### (1) Load a GeoJSON file with `geopandas`"
   ]
  },
  {
   "cell_type": "code",
   "execution_count": null,
   "metadata": {},
   "outputs": [],
   "source": [
    "polygons = interface.load_feature_polygons(polygons_input_path)\n",
    "if verbose:\n",
    "    log_info(polygons, \"polygons\")\n",
    "if show_plots:\n",
    "    plot_geodataframe(polygons, f\"{interface.load_feature_polygons.__name__}\")\n"
   ]
  },
  {
   "attachments": {},
   "cell_type": "markdown",
   "metadata": {},
   "source": [
    "### (2) Load a Sentinel-2 raster with `rioxarray`"
   ]
  },
  {
   "cell_type": "code",
   "execution_count": null,
   "metadata": {},
   "outputs": [],
   "source": [
    "rasters = interface.load_sentinel_data(raster_input_path, resolution, band_names)\n",
    "if verbose:\n",
    "    log_info(rasters, \"rasters\")\n",
    "if show_plots:\n",
    "    plot_rgb_data_array(rasters, f\"{interface.load_sentinel_data.__name__}\")\n",
    "\n"
   ]
  },
  {
   "attachments": {},
   "cell_type": "markdown",
   "metadata": {},
   "source": [
    "### (3) Rasterize the polygons"
   ]
  },
  {
   "cell_type": "code",
   "execution_count": null,
   "metadata": {},
   "outputs": [],
   "source": [
    "\n",
    "burnt_polygons, mapping = interface.rasterize_geojson(rasters, polygons)\n",
    "if verbose:\n",
    "    log_info(burnt_polygons, \"burnt_polygons\")\n",
    "    log_info(mapping, \"mapping\")\n",
    "if show_plots:\n",
    "    plot_array(burnt_polygons, f\"{interface.rasterize_geojson.__name__}\")\n",
    "\n"
   ]
  },
  {
   "attachments": {},
   "cell_type": "markdown",
   "metadata": {},
   "source": [
    "### (4) Intersect the Sentinel-2 raster with polygons"
   ]
  },
  {
   "cell_type": "code",
   "execution_count": null,
   "metadata": {},
   "outputs": [],
   "source": [
    "\n",
    "classified_rgb_rows = interface.produce_clips(rasters, burnt_polygons, mapping)\n",
    "if verbose:\n",
    "    log_info(classified_rgb_rows, \"classified_rgb_rows\")\n",
    "\n"
   ]
  },
  {
   "attachments": {},
   "cell_type": "markdown",
   "metadata": {},
   "source": [
    "### (5) Persist the intersection to a CSV"
   ]
  },
  {
   "cell_type": "code",
   "execution_count": null,
   "metadata": {},
   "outputs": [],
   "source": [
    "\n",
    "interface.persist_to_csv(classified_rgb_rows, csv_output_path)\n",
    "log_info(f\"Written CSV output {csv_output_path}\")\n",
    "\n"
   ]
  },
  {
   "attachments": {},
   "cell_type": "markdown",
   "metadata": {},
   "source": [
    "### (6) Train a machine learning model"
   ]
  },
  {
   "cell_type": "code",
   "execution_count": null,
   "metadata": {},
   "outputs": [],
   "source": [
    "classification_result = interface.classify_sentinel_data(\n",
    "    rasters, classified_rgb_rows\n",
    ")\n",
    "if verbose:\n",
    "    log_info(classification_result, \"classification_result\")\n",
    "if show_plots:\n",
    "    plot_array(\n",
    "        classification_result, f\"{interface.classify_sentinel_data.__name__}\"\n",
    "    )\n"
   ]
  },
  {
   "attachments": {},
   "cell_type": "markdown",
   "metadata": {},
   "source": [
    "### (7) Export the classification raster result"
   ]
  },
  {
   "cell_type": "code",
   "execution_count": null,
   "metadata": {},
   "outputs": [],
   "source": [
    "\n",
    "interface.persist_classification_to_raster(\n",
    "    raster_output_path, classification_result\n",
    ")\n",
    "log_info(f\"Written Classified Raster to {csv_output_path}\")\n",
    "\n",
    "# --\n",
    "\n",
    "log_info(\"Congratulations, you reached the end of the tutorial!\")\n"
   ]
  }
 ],
 "metadata": {
  "kernelspec": {
   "display_name": ".venv",
   "language": "python",
   "name": "python3"
  },
  "language_info": {
   "codemirror_mode": {
    "name": "ipython",
    "version": 3
   },
   "file_extension": ".py",
   "mimetype": "text/x-python",
   "name": "python",
   "nbconvert_exporter": "python",
   "pygments_lexer": "ipython3",
   "version": "3.10.4"
  },
  "orig_nbformat": 4
 },
 "nbformat": 4,
 "nbformat_minor": 2
}
