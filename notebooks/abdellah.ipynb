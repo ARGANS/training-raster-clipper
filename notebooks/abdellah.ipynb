{
 "cells": [
  {
   "cell_type": "code",
   "execution_count": 1,
   "metadata": {},
   "outputs": [],
   "source": [
    "import logging\n",
    "from pathlib import Path\n",
    "\n",
    "import geopandas as gpd\n",
    "import numpy as np\n",
    "import rioxarray\n",
    "import xarray as xr\n",
    "from affine import Affine\n",
    "from geopandas.geodataframe import GeoDataFrame\n",
    "from rasterio.features import rasterize\n",
    "from rasterio.transform import Affine\n",
    "from sklearn.ensemble import RandomForestClassifier\n",
    "\n",
    "from training_raster_clipper.core.logging import log_info\n",
    "from training_raster_clipper.core.models import TrainingConfiguration\n",
    "from training_raster_clipper.core.visualization import (\n",
    "    plot_array,\n",
    "    plot_geodataframe,\n",
    "    plot_rgb_data_array,\n",
    ")\n",
    "from training_raster_clipper.custom_types import (\n",
    "    BandNameType,\n",
    "    ClassificationResult,\n",
    "    ClassifiedSamples,\n",
    "    FeatureClassNameToId,\n",
    "    PolygonMask,\n",
    "    ResolutionType,\n",
    ")"
   ]
  },
  {
   "cell_type": "code",
   "execution_count": null,
   "metadata": {},
   "outputs": [],
   "source": [
    "# See https://stackoverflow.com/questions/18786912/get-output-from-the-logging-module-in-ipython-notebook\n",
    "logger = logging.getLogger()\n",
    "logger.setLevel(logging.INFO)\n",
    "logging.info(\"test\") "
   ]
  },
  {
   "cell_type": "code",
   "execution_count": null,
   "metadata": {},
   "outputs": [],
   "source": [
    "raster_input_path = Path(\n",
    "    \"C:/Users/abelaid/training-raster-clipper/resources/solution/example_sentinel_files/SENTINEL.SAFE\"\n",
    ")\n",
    "polygons_input_path = Path(\n",
    "    \"C:/Users/abelaid/training-raster-clipper/resources/solution/polygons.geojson\"\n",
    ")\n",
    "\n",
    "assert raster_input_path.exists() and raster_input_path.is_dir()\n",
    "assert polygons_input_path.exists() and polygons_input_path.is_file()\n",
    "\n",
    "config = TrainingConfiguration(\n",
    "    verbose=True,\n",
    "    show_plots=True,\n",
    "    resolution=60,\n",
    "    band_names=(\"B04\", \"B03\", \"B02\", \"B8A\"),\n",
    "    raster_input_path=raster_input_path,\n",
    "    polygons_input_path=polygons_input_path,\n",
    "    csv_output_path = (Path(\".\").resolve().parent / Path(\"generated/classified_points.csv\")),\n",
    "    raster_output_path=(Path(\".\").resolve().parent / Path(\"generated/sklearn_raster.tiff\")),\n",
    "    implementation_name=\"abdellah\",\n",
    ")\n",
    "config\n"
   ]
  },
  {
   "cell_type": "code",
   "execution_count": null,
   "metadata": {},
   "outputs": [],
   "source": [
    "verbose = config.verbose\n",
    "show_plots = config.show_plots\n",
    "\n",
    "resolution = config.resolution\n",
    "band_names = config.band_names\n",
    "\n",
    "raster_input_path = config.raster_input_path\n",
    "polygons_input_path = config.polygons_input_path\n",
    "csv_output_path = config.csv_output_path\n",
    "raster_output_path = config.raster_output_path\n"
   ]
  },
  {
   "attachments": {},
   "cell_type": "markdown",
   "metadata": {},
   "source": [
    "### (1) Load a GeoJSON file with `geopandas`\n"
   ]
  },
  {
   "cell_type": "code",
   "execution_count": null,
   "metadata": {},
   "outputs": [],
   "source": [
    "def load_feature_polygons(input_path: Path) -> GeoDataFrame:\n",
    "    \n",
    "    return gpd.read_file(input_path).to_crs(epsg=32631)\n"
   ]
  },
  {
   "cell_type": "code",
   "execution_count": null,
   "metadata": {},
   "outputs": [],
   "source": [
    "\n",
    "polygons = load_feature_polygons(polygons_input_path)\n",
    "if verbose:\n",
    "    log_info(polygons, \"polygons\")\n",
    "if show_plots:\n",
    "    plot_geodataframe(polygons, f\"{load_feature_polygons.__name__}\")\n"
   ]
  },
  {
   "attachments": {},
   "cell_type": "markdown",
   "metadata": {},
   "source": [
    "### (2) Load a Sentinel-2 raster with `rioxarray`\n"
   ]
  },
  {
   "cell_type": "code",
   "execution_count": null,
   "metadata": {},
   "outputs": [],
   "source": [
    "def load_sentinel_data(\n",
    "    sentinel_product_location: Path,\n",
    "    resolution: ResolutionType,\n",
    "    band_names: tuple[BandNameType, ...],\n",
    ") -> xr.DataArray:\n",
    "    \"\"\"Loads sentinel product\n",
    "\n",
    "    Example input path: `S2A_MSIL2A_20221116T105321_N0400_R051_T31TCJ_20221116T170958.SAFE`\n",
    "\n",
    "    Args:\n",
    "        sentinel_product_location (Path): Location of the .SAFE folder containing a Sentinel-2 product.\n",
    "\n",
    "    Returns:\n",
    "        xr.DataArray: A DataArray containing the 3 RGB bands from the visible spectrum\n",
    "    \"\"\"\n",
    "\n",
    "    dict = { e: list(sentinel_product_location.glob(f'GRANULE/*/IMG_DATA/R{resolution}m/*_{e}_*'))[0] for e in band_names }\n",
    "\n",
    "    rioDict = { band: rioxarray.open_rasterio(dict[band]) for band in band_names }\n",
    "\n",
    "    rasters = list(\n",
    "        raster.assign_coords(coords={\"band\": [band_name]})\n",
    "        for band_name, raster in rioDict.items()\n",
    "        if isinstance(raster, xr.DataArray)\n",
    "    )\n",
    "\n",
    "    bxy = xr.concat(rasters, \"band\")\n",
    "\n",
    "    print(bxy.coords)\n",
    "\n",
    "    bxy.fillna(np.float32(0.0))\n",
    "\n",
    "    RADIO_ADD_OFFSET = -1000\n",
    "    QUANTIFICATION_VALUE = 10000\n",
    "\n",
    "    return (bxy + RADIO_ADD_OFFSET) / QUANTIFICATION_VALUE\n"
   ]
  },
  {
   "cell_type": "code",
   "execution_count": null,
   "metadata": {},
   "outputs": [],
   "source": [
    "rasters = load_sentinel_data(raster_input_path, resolution, band_names)\n",
    "if verbose:\n",
    "    log_info(rasters, \"rasters\")\n",
    "if show_plots:\n",
    "    plot_rgb_data_array(rasters, f\"{load_sentinel_data.__name__}\")\n"
   ]
  },
  {
   "attachments": {},
   "cell_type": "markdown",
   "metadata": {},
   "source": [
    "### (3) Rasterize the polygons\n"
   ]
  },
  {
   "cell_type": "code",
   "execution_count": null,
   "metadata": {},
   "outputs": [],
   "source": [
    "def rasterize_geojson(\n",
    "    data_array: xr.DataArray,\n",
    "    training_classes: GeoDataFrame,\n",
    "):\n",
    "# ) -> tuple[PolygonMask, FeatureClassNameToId]:\n",
    "    \"\"\"Burns a set of vectorial polygons to a raster.\n",
    "\n",
    "    See https://gis.stackexchange.com/questions/316626/rasterio-features-rasterize\n",
    "\n",
    "    Args:\n",
    "        data_array (xr.DataArray): The Sentinel raster, from which data is taken, such as the transform or the shape.\n",
    "        training_classes (GeoDataFrame): The input set of classified multipolygons to burn\n",
    "\n",
    "    Returns:\n",
    "        xr.DataArray: A mask raster generated from the polygons, representing the same geographical region as the source dataarray param\n",
    "                      0 where no polygon were found, and integers representing classes in order of occurence in the GeoDataFrame\n",
    "    \"\"\"\n",
    "\n",
    "    raster_transform = list(float(k) for k in data_array.spatial_ref.GeoTransform.split())\n",
    "    raster_transform = Affine.from_gdal(*raster_transform)\n",
    "\n",
    "    shape = data_array.isel(band=0, drop=True).shape\n",
    "    \n",
    "    geometry_col = training_classes[\"geometry\"]\n",
    "    class_col = training_classes[\"class\"]\n",
    "    index = training_classes.index\n",
    "\n",
    "    mapping = dict(zip(class_col, index + 1))\n",
    "    shapes = list(zip(geometry_col, index + 1))\n",
    "\n",
    "    rasterized: PolygonMask = rasterize(\n",
    "        shapes, \n",
    "        out_shape = shape,\n",
    "        transform= raster_transform,\n",
    "        dtype = np.uint8\n",
    "    )\n",
    "\n",
    "    return rasterized, mapping"
   ]
  },
  {
   "cell_type": "code",
   "execution_count": null,
   "metadata": {},
   "outputs": [],
   "source": [
    "rasterize_geojson(rasters, polygons)"
   ]
  },
  {
   "cell_type": "code",
   "execution_count": null,
   "metadata": {},
   "outputs": [],
   "source": [
    "burnt_polygons, mapping = rasterize_geojson(rasters, polygons)\n",
    "if verbose:\n",
    "    log_info(burnt_polygons, \"burnt_polygons\")\n",
    "    log_info(mapping, \"mapping\")\n",
    "if show_plots:\n",
    "    plot_array(burnt_polygons, f\"{rasterize_geojson.__name__}\")\n"
   ]
  },
  {
   "attachments": {},
   "cell_type": "markdown",
   "metadata": {},
   "source": [
    "### (4) Intersect the Sentinel-2 raster with polygons\n"
   ]
  },
  {
   "cell_type": "code",
   "execution_count": null,
   "metadata": {},
   "outputs": [],
   "source": [
    "def produce_clips(\n",
    "    data_array: xr.DataArray, burnt_polygons: PolygonMask, mapping: FeatureClassNameToId\n",
    "):\n",
    "# ) -> ClassifiedSamples:\n",
    "    \"\"\"Extract RGB values covered by classified polygons\n",
    "\n",
    "    Args:\n",
    "        data_array (xr.DataArray): RGB raster\n",
    "        burnt_polygons (PolygonMask): Rasterized classified multipolygons\n",
    "\n",
    "    Returns:\n",
    "        _type_: A list of the RGB values contained in the data_array and their corresponding classes\n",
    "    \"\"\"\n",
    "    reflectance = data_array.stack(z=(\"y\", \"x\"))\n",
    "    reflectance.drop_vars((\"y\", \"x\"))\n",
    "\n",
    "    feature_id_class = xr.DataArray(burnt_polygons.reshape(-1),dims=\"z\")\n",
    "\n",
    "    classified = xr.Dataset(\n",
    "        {\n",
    "            \"reflectance\": reflectance,\n",
    "            \"feature_id\": feature_id_class\n",
    "        }\n",
    "    )\n",
    "\n",
    "    return classified.sel(z = feature_id_class != 0)\n",
    "\n",
    "    \n"
   ]
  },
  {
   "cell_type": "code",
   "execution_count": null,
   "metadata": {},
   "outputs": [],
   "source": [
    "produce_clips(rasters, burnt_polygons, mapping)"
   ]
  },
  {
   "cell_type": "code",
   "execution_count": null,
   "metadata": {},
   "outputs": [],
   "source": [
    "classified_rgb_rows = produce_clips(rasters, burnt_polygons, mapping)\n",
    "if verbose:\n",
    "    log_info(classified_rgb_rows, \"classified_rgb_rows\")\n"
   ]
  },
  {
   "attachments": {},
   "cell_type": "markdown",
   "metadata": {},
   "source": [
    "### (5) Persist the intersection to a CSV\n"
   ]
  },
  {
   "cell_type": "code",
   "execution_count": null,
   "metadata": {},
   "outputs": [],
   "source": [
    "def persist_to_csv(\n",
    "    classified_rgb_rows: ClassifiedSamples,\n",
    "    csv_output_path: Path,\n",
    ") -> None:\n",
    "    \n",
    "    data = classified_rgb_rows[\"reflectance\"].T.to_pandas()\n",
    "    data[\"feature_id\"] = classified_rgb_rows[\"feature_id\"].to_series()\n",
    "    data.to_csv(csv_output_path, index=False, sep=\";\")\n"
   ]
  },
  {
   "cell_type": "code",
   "execution_count": null,
   "metadata": {},
   "outputs": [],
   "source": [
    "persist_to_csv(classified_rgb_rows, csv_output_path)\n",
    "log_info(f\"Written CSV output {csv_output_path}\")\n"
   ]
  },
  {
   "attachments": {},
   "cell_type": "markdown",
   "metadata": {},
   "source": [
    "### (6) Train a machine learning model\n"
   ]
  },
  {
   "cell_type": "code",
   "execution_count": null,
   "metadata": {},
   "outputs": [],
   "source": [
    "def classify_sentinel_data(\n",
    "    rasters: xr.DataArray, classified_rgb_rows: ClassifiedSamples\n",
    ") -> ClassificationResult:\n",
    "    \n",
    "    model = RandomForestClassifier()\n",
    "\n",
    "    train = classified_rgb_rows[\"reflectance\"].T\n",
    "    labels = classified_rgb_rows[\"feature_id\"]\n",
    "\n",
    "    model.fit(train, labels)\n",
    "\n",
    "    classes = model.predict(rasters.stack(z=(\"y\", \"x\")).T)\n",
    "\n",
    "    rasters_nb = rasters.isel(band=0, drop=True)\n",
    "\n",
    "    return xr.DataArray(classes.reshape(rasters_nb.shape))\n"
   ]
  },
  {
   "cell_type": "code",
   "execution_count": null,
   "metadata": {},
   "outputs": [],
   "source": [
    "classification_result = classify_sentinel_data(\n",
    "    rasters, classified_rgb_rows\n",
    ")\n",
    "if verbose:\n",
    "    log_info(classification_result, \"classification_result\")\n",
    "if show_plots:\n",
    "    plot_array(\n",
    "        classification_result, f\"{classify_sentinel_data.__name__}\"\n",
    "    )\n"
   ]
  },
  {
   "attachments": {},
   "cell_type": "markdown",
   "metadata": {},
   "source": [
    "### (7) Export the classification raster result\n"
   ]
  },
  {
   "cell_type": "code",
   "execution_count": null,
   "metadata": {},
   "outputs": [],
   "source": [
    "def persist_classification_to_raster(\n",
    "    raster_output_path: Path, classification_result: ClassificationResult\n",
    ") -> None:\n",
    "    classification_result.rio.to_raster(raster_output_path)\n"
   ]
  },
  {
   "cell_type": "code",
   "execution_count": null,
   "metadata": {},
   "outputs": [],
   "source": [
    "persist_classification_to_raster(\n",
    "    raster_output_path, classification_result\n",
    ")\n",
    "log_info(f\"Written Classified Raster to {csv_output_path}\")\n",
    "\n",
    "# --\n",
    "\n",
    "log_info(\"Congratulations, you reached the end of the tutorial!\")\n"
   ]
  }
 ],
 "metadata": {
  "kernelspec": {
   "display_name": ".venv",
   "language": "python",
   "name": "python3"
  },
  "language_info": {
   "codemirror_mode": {
    "name": "ipython",
    "version": 3
   },
   "file_extension": ".py",
   "mimetype": "text/x-python",
   "name": "python",
   "nbconvert_exporter": "python",
   "pygments_lexer": "ipython3",
   "version": "3.10.4"
  },
  "orig_nbformat": 4
 },
 "nbformat": 4,
 "nbformat_minor": 2
}
