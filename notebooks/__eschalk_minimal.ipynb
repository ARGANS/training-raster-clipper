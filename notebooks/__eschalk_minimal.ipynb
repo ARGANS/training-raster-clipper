{
 "cells": [
  {
   "cell_type": "code",
   "execution_count": null,
   "metadata": {},
   "outputs": [],
   "source": [
    "from pathlib import Path \n",
    "\n",
    "from training_raster_clipper.core.application import execute\n",
    "from training_raster_clipper.core.models import TrainingConfiguration, TrainingFunctions \n",
    "\n",
    "\n",
    "config = TrainingConfiguration(\n",
    "    verbose = True,\n",
    "    show_plots = True, \n",
    "    resolution = 60,\n",
    "    band_names = (\"B04\", \"B03\", \"B02\", \"B8A\"),\n",
    "    raster_input_path = Path(\n",
    "        \"D:/PROFILS/ESCHALK/DOWNLOADS/S2A_MSIL2A_20221116T105321_N0400_R051_T31TCJ_20221116T170958/S2A_MSIL2A_20221116T105321_N0400_R051_T31TCJ_20221116T170958.SAFE\"\n",
    "    ),\n",
    "    polygons_input_path = (Path(\".\").resolve().parent / Path(\"resources/solution/polygons.geojson\")),\n",
    "    csv_output_path = (Path(\".\").resolve().parent / Path(\"generated/classified_points.csv\")),\n",
    "    raster_output_path=(Path(\".\").resolve().parent / Path(\"generated/sklearn_raster.tiff\")),\n",
    "    implementation_name=\"eschalk\",\n",
    ")\n",
    "config"
   ]
  },
  {
   "cell_type": "code",
   "execution_count": null,
   "metadata": {},
   "outputs": [],
   "source": [
    "from training_raster_clipper.implementation.eschalk import (\n",
    "    load_feature_polygons,\n",
    "    load_sentinel_data,\n",
    "    rasterize_geojson,\n",
    "    produce_clips,\n",
    "    persist_to_csv,\n",
    "    classify_sentinel_data,\n",
    "    persist_classification_to_raster,\n",
    ")\n",
    "\n",
    "functions = TrainingFunctions(\n",
    "    load_feature_polygons=load_feature_polygons,\n",
    "    load_sentinel_data=load_sentinel_data,\n",
    "    rasterize_geojson=rasterize_geojson,\n",
    "    produce_clips=produce_clips,\n",
    "    persist_to_csv=persist_to_csv,\n",
    "    classify_sentinel_data=classify_sentinel_data,\n",
    "    persist_classification_to_raster=persist_classification_to_raster,\n",
    ")\n",
    "functions"
   ]
  },
  {
   "cell_type": "code",
   "execution_count": null,
   "metadata": {},
   "outputs": [],
   "source": [
    "execute(config, functions)"
   ]
  }
 ],
 "metadata": {
  "kernelspec": {
   "display_name": ".venv",
   "language": "python",
   "name": "python3"
  },
  "language_info": {
   "codemirror_mode": {
    "name": "ipython",
    "version": 3
   },
   "file_extension": ".py",
   "mimetype": "text/x-python",
   "name": "python",
   "nbconvert_exporter": "python",
   "pygments_lexer": "ipython3",
   "version": "3.10.4"
  },
  "orig_nbformat": 4
 },
 "nbformat": 4,
 "nbformat_minor": 2
}
